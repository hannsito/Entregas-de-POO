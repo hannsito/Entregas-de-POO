{
  "nbformat": 4,
  "nbformat_minor": 0,
  "metadata": {
    "colab": {
      "provenance": [],
      "authorship_tag": "ABX9TyNNczUcsOURpv0aMdqVrNEV",
      "include_colab_link": true
    },
    "kernelspec": {
      "name": "python3",
      "display_name": "Python 3"
    },
    "language_info": {
      "name": "python"
    }
  },
  "cells": [
    {
      "cell_type": "markdown",
      "metadata": {
        "id": "view-in-github",
        "colab_type": "text"
      },
      "source": [
        "<a href=\"https://colab.research.google.com/github/hannsito/Entregas-de-POO/blob/main/Actividad_5_POO.ipynb\" target=\"_parent\"><img src=\"https://colab.research.google.com/assets/colab-badge.svg\" alt=\"Open In Colab\"/></a>"
      ]
    },
    {
      "cell_type": "code",
      "execution_count": 4,
      "metadata": {
        "colab": {
          "base_uri": "https://localhost:8080/"
        },
        "id": "J9UF0x7PSHuj",
        "outputId": "018c9470-eb19-4937-feb4-8e6a343ec977"
      },
      "outputs": [
        {
          "output_type": "stream",
          "name": "stdout",
          "text": [
            "Introduce tu nombre completo: sua carolina parra padilla\n",
            "Introduce tu email: sua.pp@gmail.com\n",
            "Introduce tu contraseña (mínimo 8 caracteres, al menos una letra y un número): stray.lids\n",
            "Contraseña inválida. Asegurate de usar solo letras y numeros de momento =)\n",
            "Introduce tu contraseña (mínimo 8 caracteres, al menos una letra y un número): strayKids12\n",
            "Introduce tu edad: 20\n",
            "Información recopilada con éxito.\n"
          ]
        }
      ],
      "source": [
        "import re\n",
        "\n",
        "class UserInput:\n",
        "    def __init__(self):\n",
        "        self.name = \"\"\n",
        "        self.email = \"\"\n",
        "        self.password = \"\"\n",
        "        self.age = \"\"\n",
        "\n",
        "    # Método para validar el nombre completo\n",
        "    def validate_name(self, name):\n",
        "        pattern = r\"^[A-Za-z\\s]+$\"  # Solo letras y espacios\n",
        "        return re.match(pattern, name) is not None\n",
        "\n",
        "    # Método para validar el email\n",
        "    def validate_email(self, email):\n",
        "        pattern = r\"^[a-zA-Z0-9_.+-]+@[a-zA-Z0-9-]+\\.[a-zA-Z0-9-.]+$\"  # Email básico\n",
        "        return re.match(pattern, email) is not None\n",
        "\n",
        "    # Método para validar la contraseña\n",
        "    def validate_password(self, password):\n",
        "        pattern = r\"^(?=.*[A-Za-z])(?=.*\\d)[A-Za-z\\d]{8,}$\"  # Al menos 8 caracteres, al menos una letra y un número\n",
        "        return re.match(pattern, password) is not None\n",
        "\n",
        "    # Método para validar la edad\n",
        "    def validate_age(self, age):\n",
        "        pattern = r\"^(100|[1-9]?[0-9])$\"  # Edad entre 0 y 100\n",
        "        return re.match(pattern, age) is not None\n",
        "\n",
        "    # Métodos para obtener la información\n",
        "    def get_name(self):\n",
        "        while True:\n",
        "            name = input(\"Introduce tu nombre completo: \")\n",
        "            if self.validate_name(name):\n",
        "                self.name = name\n",
        "                break\n",
        "            else:\n",
        "                print(\"Nombre inválido. Asegúrate de usar solo letras y espacios.\")\n",
        "\n",
        "    def get_email(self):\n",
        "        while True:\n",
        "            email = input(\"Introduce tu email: \")\n",
        "            if self.validate_email(email):\n",
        "                self.email = email\n",
        "                break\n",
        "            else:\n",
        "                print(\"Email inválido. Asegúrate de seguir el formato correcto.\")\n",
        "\n",
        "    def get_password(self):\n",
        "        while True:\n",
        "            password = input(\"Introduce tu contraseña (mínimo 8 caracteres, al menos una letra y un número): \")\n",
        "            if self.validate_password(password):\n",
        "                self.password = password\n",
        "                break\n",
        "            else:\n",
        "                print(\"Contraseña inválida. Asegurate de usar solo letras y numeros de momento =)\")\n",
        "\n",
        "    def get_age(self):\n",
        "        while True:\n",
        "            age = input(\"Introduce tu edad: \")\n",
        "            if self.validate_age(age):\n",
        "                self.age = age\n",
        "                break\n",
        "            else:\n",
        "                print(\"Edad inválida. Debe estar entre 0 y 100.\")\n",
        "\n",
        "    # Método para obtener toda la información\n",
        "    def gather_information(self):\n",
        "        self.get_name()\n",
        "        self.get_email()\n",
        "        self.get_password()\n",
        "        self.get_age()\n",
        "        print(\"Información recopilada con éxito.\")\n",
        "\n",
        "# Uso del código\n",
        "if __name__ == \"__main__\":\n",
        "    user_input = UserInput()\n",
        "    user_input.gather_information()\n"
      ]
    }
  ]
}