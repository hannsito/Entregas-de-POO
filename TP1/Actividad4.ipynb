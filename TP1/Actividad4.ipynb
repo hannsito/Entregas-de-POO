{
  "nbformat": 4,
  "nbformat_minor": 0,
  "metadata": {
    "colab": {
      "provenance": [],
      "include_colab_link": true
    },
    "kernelspec": {
      "name": "python3",
      "display_name": "Python 3"
    }
  },
  "cells": [
    {
      "cell_type": "markdown",
      "metadata": {
        "id": "view-in-github",
        "colab_type": "text"
      },
      "source": [
        "<a href=\"https://colab.research.google.com/github/hannsito/Entregas-de-POO/blob/main/TP1/Actividad4.ipynb\" target=\"_parent\"><img src=\"https://colab.research.google.com/assets/colab-badge.svg\" alt=\"Open In Colab\"/></a>"
      ]
    },
    {
      "cell_type": "markdown",
      "metadata": {
        "id": "vWmc_s2ezvU0"
      },
      "source": [
        "# Run streamlit app from a Google Colab Notebook\n",
        "> Created by [Manuel Romero](https://twitter.com/mrm8488)"
      ]
    },
    {
      "cell_type": "code",
      "metadata": {
        "id": "RvlYkCQ9vFiy",
        "colab": {
          "base_uri": "https://localhost:8080/",
          "height": 254
        },
        "outputId": "0fc8c222-84b4-4073-aadb-c6c2dbc18060"
      },
      "source": [
        "!pip install -q streamlit"
      ],
      "execution_count": null,
      "outputs": [
        {
          "output_type": "stream",
          "text": [
            "\u001b[K     |████████████████████████████████| 7.1MB 2.8MB/s \n",
            "\u001b[K     |████████████████████████████████| 4.4MB 45.5MB/s \n",
            "\u001b[K     |████████████████████████████████| 522kB 50.5MB/s \n",
            "\u001b[K     |████████████████████████████████| 112kB 51.3MB/s \n",
            "\u001b[K     |████████████████████████████████| 102kB 10.5MB/s \n",
            "\u001b[K     |████████████████████████████████| 122kB 48.4MB/s \n",
            "\u001b[?25h  Building wheel for validators (setup.py) ... \u001b[?25l\u001b[?25hdone\n",
            "  Building wheel for tornado (setup.py) ... \u001b[?25l\u001b[?25hdone\n",
            "  Building wheel for blinker (setup.py) ... \u001b[?25l\u001b[?25hdone\n",
            "  Building wheel for watchdog (setup.py) ... \u001b[?25l\u001b[?25hdone\n",
            "  Building wheel for pathtools (setup.py) ... \u001b[?25l\u001b[?25hdone\n",
            "\u001b[31mERROR: google-colab 1.0.0 has requirement ipykernel~=4.10, but you'll have ipykernel 5.3.0 which is incompatible.\u001b[0m\n",
            "\u001b[31mERROR: google-auth 1.7.2 has requirement cachetools<3.2,>=2.0.0, but you'll have cachetools 4.1.0 which is incompatible.\u001b[0m\n"
          ],
          "name": "stdout"
        }
      ]
    },
    {
      "cell_type": "code",
      "source": [],
      "metadata": {
        "id": "an2C3c_0Ooi9"
      },
      "execution_count": null,
      "outputs": []
    },
    {
      "cell_type": "markdown",
      "metadata": {
        "id": "waCfwniZOow8"
      },
      "source": [
        "## Create a streamlit app example\n"
      ]
    },
    {
      "cell_type": "code",
      "source": [
        "import streamlit as st\n",
        "\n",
        "class User:\n",
        "    def __init__(self, name, age, email, address, shift):\n",
        "        self.shift = shift\n",
        "        self.name = self.encrypt(name)\n",
        "        self.age = self.encrypt(str(age))\n",
        "        self.email = self.encrypt(email)\n",
        "        self.address = self.encrypt(address)\n",
        "\n",
        "    def encrypt(self, text):\n",
        "        encrypted = ''\n",
        "        for char in text:\n",
        "            if char.isalpha():\n",
        "                shift = self.shift\n",
        "                if char.islower():\n",
        "                    encrypted += chr((ord(char) - 97 + shift) % 26 + 97)\n",
        "                else:\n",
        "                    encrypted += chr((ord(char) - 65 + shift) % 26 + 65)\n",
        "            elif char.isdigit():\n",
        "                encrypted += chr((ord(char) - 48 + self.shift) % 10 + 48)\n",
        "            else:\n",
        "                encrypted += char\n",
        "        return encrypted\n",
        "\n",
        "    def decrypt(self, text):\n",
        "        decrypted = ''\n",
        "        for char in text:\n",
        "            if char.isalpha():\n",
        "                shift = self.shift\n",
        "                if char.islower():\n",
        "                    decrypted += chr((ord(char) - 97 - shift) % 26 + 97)\n",
        "                else:\n",
        "                    decrypted += chr((ord(char) - 65 - shift) % 26 + 65)\n",
        "            elif char.isdigit():\n",
        "                decrypted += chr((ord(char) - 48 - self.shift) % 10 + 48)\n",
        "            else:\n",
        "                decrypted += char\n",
        "        return decrypted\n",
        "\n",
        "    def display_decrypted(self):\n",
        "        return (f\"Name: {self.decrypt(self.name)}, Age: {self.decrypt(self.age)}, \"\n",
        "                f\"Email: {self.decrypt(self.email)}, Address: {self.decrypt(self.address)}\")\n",
        "\n",
        "\n",
        "class CRUDSystem:\n",
        "    def __init__(self, shift):\n",
        "        self.users = []\n",
        "        self.shift = shift\n",
        "\n",
        "    def create_user(self, name, age, email, address):\n",
        "        user = User(name, age, email, address, self.shift)\n",
        "        self.users.append(user)\n",
        "\n",
        "    def read_users(self):\n",
        "        return [user.display_decrypted() for user in self.users]\n",
        "\n",
        "    def update_user(self, index, name=None, age=None, email=None, address=None):\n",
        "        if 0 <= index < len(self.users):\n",
        "            user = self.users[index]\n",
        "            if name:\n",
        "                user.name = user.encrypt(name)\n",
        "            if age:\n",
        "                user.age = user.encrypt(str(age))\n",
        "            if email:\n",
        "                user.email = user.encrypt(email)\n",
        "            if address:\n",
        "                user.address = user.encrypt(address)\n",
        "\n",
        "    def delete_user(self, index):\n",
        "        if 0 <= index < len(self.users):\n",
        "            del self.users[index]\n",
        "\n",
        "\n",
        "# Streamlit UI\n",
        "st.title(\"User Management System\")\n",
        "\n",
        "shift = st.sidebar.slider(\"Encryption Shift\", 1, 25, 3)\n",
        "crud_system = CRUDSystem(shift)\n",
        "\n",
        "# Create User\n",
        "st.header(\"Create User\")\n",
        "with st.form(key='create_user_form'):\n",
        "    name = st.text_input(\"Name\")\n",
        "    age = st.number_input(\"Age\", min_value=0)\n",
        "    email = st.text_input(\"Email\")\n",
        "    address = st.text_input(\"Address\")\n",
        "    submit_button = st.form_submit_button(label='Create User')\n",
        "    if submit_button:\n",
        "        crud_system.create_user(name, age, email, address)\n",
        "        st.success(f\"User {name} created successfully.\")\n",
        "\n",
        "# Read Users\n",
        "st.header(\"User List\")\n",
        "user_list = crud_system.read_users()\n",
        "if user_list:\n",
        "    for index, user_info in enumerate(user_list):\n",
        "        st.write(f\"User {index}: {user_info}\")\n",
        "else:\n",
        "    st.write(\"No users found.\")\n",
        "\n",
        "# Update User\n",
        "st.header(\"Update User\")\n",
        "user_index = st.number_input(\"User Index\", min_value=0, max_value=len(crud_system.users)-1, step=1)\n",
        "with st.form(key='update_user_form'):\n",
        "    update_name = st.text_input(\"New Name (leave blank if not changing)\")\n",
        "    update_age = st.number_input(\"New Age (leave blank if not changing)\", min_value=0)\n",
        "    update_email = st.text_input(\"New Email (leave blank if not changing)\")\n",
        "    update_address = st.text_input(\"New Address (leave blank if not changing)\")\n",
        "    update_button = st.form_submit_button(label='Update User')\n",
        "    if update_button:\n",
        "        crud_system.update_user(user_index, update_name, update_age, update_email, update_address)\n",
        "        st.success(f\"User at index {user_index} updated successfully.\")\n",
        "\n",
        "# Delete User\n",
        "st.header(\"Delete User\")\n",
        "delete_index = st.number_input(\"User Index to Delete\", min_value=0, max_value=len(crud_system.users)-1, step=1)\n",
        "delete_button = st.button(label='Delete User')\n",
        "if delete_button:\n",
        "    crud_system.delete_user(delete_index)\n",
        "    st.success(f\"User at index {delete_index} deleted successfully.\")\n"
      ],
      "metadata": {
        "id": "meJ36PefNftd",
        "outputId": "a5f9bbf8-6f97-464c-bb23-113909e73329",
        "colab": {
          "base_uri": "https://localhost:8080/"
        }
      },
      "execution_count": null,
      "outputs": [
        {
          "output_type": "stream",
          "name": "stdout",
          "text": [
            "Writing app.py\n"
          ]
        }
      ]
    },
    {
      "cell_type": "markdown",
      "metadata": {
        "id": "xZlEJkmSOoxC"
      },
      "source": [
        "## Install localtunnel"
      ]
    },
    {
      "cell_type": "code",
      "metadata": {
        "colab": {
          "base_uri": "https://localhost:8080/"
        },
        "outputId": "a7094361-2ced-4079-9e49-e93e7b00ea90",
        "id": "ZAyqQCQVOoxC"
      },
      "source": [
        "!npm install localtunnel"
      ],
      "execution_count": null,
      "outputs": [
        {
          "output_type": "stream",
          "name": "stdout",
          "text": [
            "\u001b[K\u001b[?25h\u001b[37;40mnpm\u001b[0m \u001b[0m\u001b[30;43mWARN\u001b[0m \u001b[0m\u001b[35msaveError\u001b[0m ENOENT: no such file or directory, open '/content/package.json'\n",
            "\u001b[K\u001b[?25h\u001b[37;40mnpm\u001b[0m \u001b[0m\u001b[34;40mnotice\u001b[0m\u001b[35m\u001b[0m created a lockfile as package-lock.json. You should commit this file.\n",
            "\u001b[0m\u001b[37;40mnpm\u001b[0m \u001b[0m\u001b[30;43mWARN\u001b[0m \u001b[0m\u001b[35menoent\u001b[0m ENOENT: no such file or directory, open '/content/package.json'\n",
            "\u001b[0m\u001b[37;40mnpm\u001b[0m \u001b[0m\u001b[30;43mWARN\u001b[0m\u001b[35m\u001b[0m content No description\n",
            "\u001b[0m\u001b[37;40mnpm\u001b[0m \u001b[0m\u001b[30;43mWARN\u001b[0m\u001b[35m\u001b[0m content No repository field.\n",
            "\u001b[0m\u001b[37;40mnpm\u001b[0m \u001b[0m\u001b[30;43mWARN\u001b[0m\u001b[35m\u001b[0m content No README data\n",
            "\u001b[0m\u001b[37;40mnpm\u001b[0m \u001b[0m\u001b[30;43mWARN\u001b[0m\u001b[35m\u001b[0m content No license field.\n",
            "\u001b[0m\n",
            "+ localtunnel@2.0.2\n",
            "added 22 packages from 22 contributors and audited 22 packages in 2.261s\n",
            "\n",
            "3 packages are looking for funding\n",
            "  run `npm fund` for details\n",
            "\n",
            "found \u001b[92m0\u001b[0m vulnerabilities\n",
            "\n",
            "\u001b[K\u001b[?25h"
          ]
        }
      ]
    },
    {
      "cell_type": "markdown",
      "source": [
        "## Run streamlit in background"
      ],
      "metadata": {
        "id": "kccYE2lkN20y"
      }
    },
    {
      "cell_type": "code",
      "source": [
        "!streamlit run /content/app.py &>/content/logs.txt &"
      ],
      "metadata": {
        "id": "Zv912rRAN0fs"
      },
      "execution_count": null,
      "outputs": []
    },
    {
      "cell_type": "markdown",
      "source": [
        "## Expose the port 8501\n",
        "Then just click in the `url` showed.\n",
        "\n",
        "A `log.txt`file will be created."
      ],
      "metadata": {
        "id": "h_KW9juhOCuH"
      }
    },
    {
      "cell_type": "code",
      "source": [
        "!npx localtunnel --port 8501"
      ],
      "metadata": {
        "id": "XTGAizLhOIgC"
      },
      "execution_count": null,
      "outputs": []
    },
    {
      "cell_type": "markdown",
      "metadata": {
        "id": "GVz-H__pOoxG"
      },
      "source": [
        "[![ko-fi](https://www.ko-fi.com/img/githubbutton_sm.svg)](https://ko-fi.com/Y8Y3VYYE)"
      ]
    }
  ]
}